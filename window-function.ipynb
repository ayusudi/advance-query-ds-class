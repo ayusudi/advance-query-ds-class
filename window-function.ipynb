{
  "nbformat": 4,
  "nbformat_minor": 0,
  "metadata": {
    "colab": {
      "provenance": []
    },
    "kernelspec": {
      "name": "python3",
      "display_name": "Python 3"
    },
    "language_info": {
      "name": "python"
    }
  },
  "cells": [
    {
      "cell_type": "markdown",
      "source": [
        "## Windows Function"
      ],
      "metadata": {
        "id": "F9h4eJv4dOvz"
      }
    },
    {
      "cell_type": "markdown",
      "source": [
        "window function digunakan untuk melakukan perhitungan pada sekelompok baris terkait dengan baris saat ini tanpa menggabungkan baris ke dalam satu baris keluaran. Outpunya akan lebih dari satu baris hasil kueri saat ini, memberikan fleksibilitas tambahan dalam analisis data.\n",
        "\n",
        "| Function   | Penjelasan                                                      |\n",
        "|------------|-----------------------------------------------------------------|\n",
        "| OVER       | Memungkinkan perhitungan atau analisis pada sekelompok baris terkait dengan baris saat ini menggunakan fungsi jendela. |\n",
        "| PARTITION | Memisahkan hasil query menjadi kelompok-kelompok berdasarkan nilai tertentu, digunakan bersamaan dengan OVER untuk menerapkan fungsi jendela pada setiap kelompok terpisah. |\n",
        "| ROW_NUMBER | Memberikan nomor baris unik untuk setiap baris hasil query.    |\n",
        "| RANK       | Memberikan peringkat kepada setiap baris tanpa melewati peringkat jika ada nilai yang sama.     |\n",
        "| DENSE_RANK | Memberikan peringkat kepada setiap baris tanpa melewati peringkat, bahkan jika ada nilai yang sama. |\n",
        "| LAG        | Mengakses nilai dari baris sebelumnya dalam hasil query.       |\n",
        "| LEAD       | Mengakses nilai dari baris setelahnya dalam hasil query.        |\n",
        "| NTILE      | Membagi hasil query menjadi sejumlah \"tangki\" atau \"bagian\" sebanding. |\n"
      ],
      "metadata": {
        "id": "WgAVrX3EbhBt"
      }
    },
    {
      "cell_type": "markdown",
      "source": [
        "### Studi Kasus 1 : Menampilkan perhitungan maksimum dari setiap pembacaan data dari id yang lebih kecil ke yang lebih besar\n",
        "\n",
        "\n",
        "```sql\n",
        "SELECT\n",
        "  id,\n",
        "  duration_seconds,\n",
        "  MAX(duration_seconds) OVER (ORDER BY id) AS max_duration\n",
        "FROM dc_bikeshare_q1_2012;\n",
        "```"
      ],
      "metadata": {
        "id": "2XtAIvxfdURd"
      }
    },
    {
      "cell_type": "markdown",
      "source": [
        "### Studi Kasus 2 : Menampilkan perhitungan total dari setiap pembacaan data dari start_terminal yang lebih kecil ke yang lebih besar.\n",
        "\n",
        "> note : start_terminal tidak uniq seperti id, tampilkan start_terminal juga\n",
        "\n",
        "```sql\n",
        "SELECT\n",
        "  id,\n",
        "  start_terminal,\n",
        "  duration_seconds,\n",
        "  MAX(duration_seconds) OVER (ORDER BY start_terminal) AS max_duration\n",
        "FROM dc_bikeshare_q1_2012;\n",
        "```\n",
        "\n",
        "> Menampilkan perhitungan total dari setiap pembacaan data dari start_terminal yang lebih besar ke kecil dan tampilkan urutannya juga idnya.\n",
        "\n",
        "```sql\n",
        "SELECT\n",
        "  id,\n",
        "  start_terminal,\n",
        "  duration_seconds,\n",
        "  MAX(duration_seconds) OVER (ORDER BY start_terminal DESC) AS max_duration,\n",
        "  ROW_NUMBER() OVER (ORDER BY start_time DESC) AS rn\n",
        "FROM dc_bikeshare_q1_2012;\n",
        "```\n"
      ],
      "metadata": {
        "id": "DRqu1AZJeWkI"
      }
    },
    {
      "cell_type": "markdown",
      "source": [
        "### Studi Kasus 3 :  LAG & LEAD\n"
      ],
      "metadata": {
        "id": "LPFyFcN9sajE"
      }
    },
    {
      "cell_type": "markdown",
      "source": [
        "\n",
        "LAG & LEAD berguna untuk membandingkan baris dengan baris sebelumnya atau sesudahnya. namun implementasinya perlu memperhatikan column tertentu dan akan di skip berapa row.\n",
        "seperti penulisan pada kode dibawah ini yang seperti ini  LAG(duration_seconds, 1) yang artinya `LAG(<column>, <mundur n>)`.\n",
        "\n",
        "\n",
        "```sql\n",
        "SELECT start_terminal,\n",
        "       duration_seconds,\n",
        "       LAG(duration_seconds, 1) OVER\n",
        "         (ORDER BY duration_seconds) AS lag\n",
        "  FROM dc_bikeshare_q1_2012\n",
        " WHERE start_time < '2012-01-08'\n",
        "\n",
        "```"
      ],
      "metadata": {
        "id": "nLvHPCm7sooW"
      }
    },
    {
      "cell_type": "markdown",
      "source": [
        "### Studi Kasus 4 :  PARTITION\n",
        "\n",
        "Memisahkan hasil query menjadi kelompok-kelompok berdasarkan nilai tertentu, digunakan bersamaan dengan OVER untuk menerapkan fungsi jendela pada setiap kelompok terpisah."
      ],
      "metadata": {
        "id": "9SnQdkp6SscD"
      }
    },
    {
      "cell_type": "markdown",
      "source": [
        "```sql\n",
        "SELECT start_terminal,\n",
        "       duration_seconds,\n",
        "       SUM(duration_seconds) OVER\n",
        "         (PARTITION BY start_terminal) AS running_total\n",
        "  FROM dc_bikeshare_q1_2012\n",
        " WHERE start_time < '2012-01-08'\n",
        " ```"
      ],
      "metadata": {
        "id": "p9RJeT23UFnZ"
      }
    }
  ]
}